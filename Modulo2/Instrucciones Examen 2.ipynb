{
 "cells": [
  {
   "cell_type": "markdown",
   "metadata": {},
   "source": [
    "<img style=\"float: left;;\" src='iteso.jpg' width=\"100\" height=\"200\"/></a>\n",
    "\n",
    "<h1><center>DEPARTAMENTO DE MATEMÁTICAS Y FÍSICA</center></h1>\n",
    "\n",
    "<h1><center>Examen Módulo 2: Simulación por Montecarlo </center></h1>\n"
   ]
  },
  {
   "cell_type": "markdown",
   "metadata": {},
   "source": [
    "<h2>Instrucciones Examen</h2>\n",
    "\n",
    "> Lea detenidamente los reactivos y responda con claridad. Si se requiere hacer uso de más hojas para la realización de cálculos, es necesario que se adjunten a este cuando se haga entrega del examen.\n",
    "\n",
    "> Responda de manera ordenada los reactivos.\n",
    "\n",
    "> Por cada respuesta de cada reactivo se calificará __código, figuras y comentarios__.\n",
    "\n",
    "> Sólo se tiene 1 intento\n",
    "\n",
    "> El examen está estimado a ser de 120min (4hr para que el examen se cierre una vez que empiecen el examen)\n",
    "\n",
    "> Se deberá adjuntar un archivo comprimido (.zip, .rar) el cuál deberá tener el siguiente formato: NombreApellido_Exa.zip. Ejemplo: \n",
    "\n",
    "> **Nombre alumno:** Juan Peréz Archivo zip a adjuntar: JuanPerez_Exa.zip\n",
    "    \n",
    "> El archivo comprimido deberá contener la carpeta de **\"Figures\"** y el archivo **\"Ex2_a.ipynb\"** (si el tipo de examen que les toque es el tipo \"a\"). En esta carpeta comprimida deberán estar los archivos *.csv que se utilicen en el examen (si es que los hay). Los archivos complementarios que crean que ayuden a su respuesta (Word, pdf,  imagenes etc.) deberan estar contenidas también en el archivo comprimido.\n",
    "  "
   ]
  },
  {
   "cell_type": "markdown",
   "metadata": {},
   "source": [
    "# Notas:\n",
    "\n",
    "- **NOTA 1:** Este examen será calificado si y sólo si, el archivo adjunto cumple con las instrucciones anteriores, de no ser así el examen no será calificado.\n",
    "\n",
    "- **NOTA 2 IMPORTANTE!!!:** El código en el archivo 'Ex2_a.ipynb' tendrá que correr, si no, la calificación del reactivo será desaprobatoria."
   ]
  },
  {
   "cell_type": "code",
   "execution_count": null,
   "metadata": {},
   "outputs": [],
   "source": []
  }
 ],
 "metadata": {
  "kernelspec": {
   "display_name": "Python 3",
   "language": "python",
   "name": "python3"
  },
  "language_info": {
   "codemirror_mode": {
    "name": "ipython",
    "version": 3
   },
   "file_extension": ".py",
   "mimetype": "text/x-python",
   "name": "python",
   "nbconvert_exporter": "python",
   "pygments_lexer": "ipython3",
   "version": "3.8.8"
  }
 },
 "nbformat": 4,
 "nbformat_minor": 2
}
