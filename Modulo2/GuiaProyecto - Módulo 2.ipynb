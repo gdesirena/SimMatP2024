{
 "cells": [
  {
   "cell_type": "markdown",
   "metadata": {},
   "source": [
    "<img style=\"float: right; margin: 0px 0px 15px 15px;\" src=\"https://upload.wikimedia.org/wikipedia/commons/b/b6/Proyecto_en_construccion.jpg\" width=\"300px\" height=\"100px\" />\n",
    "\n",
    "\n",
    "# Guía para presentación de proyectos.\n",
    "> Se especifican los componentes básicos que deberá tener cada proyecto. El proyecto debe ser un problema que se pueda modelar con las herramientas vistas en el módulo. En el caso del segundo módulo, simulación Montecarlo."
   ]
  },
  {
   "cell_type": "markdown",
   "metadata": {},
   "source": [
    "## 1. PROYECTO MÓDULO 2\n",
    "\n",
    " 1. Elegir (de nuevo) integrantes para proyecto. Mínimo 2, máximo 3. Pueden ser los mismos integrantes que el módulo pasado.\n",
    " 2. Deben elegir un tema para proyecto que se pueda resolver con el método Montecarlo (preferiblemente, relacionado con su carrera).\n",
    " 4. Fecha de entrega y presentación: **lunes 09 de Mayo** (presentación 10 minutos por equipo).\n",
    "\n",
    "## 1.1 Ideas de proyectos:\n",
    "1. Integrar un volumen.\n",
    "\n",
    "2. Generar un paisaje de montañas con fractales. https://en.wikipedia.org/wiki/Fractal_landscape\n",
    "\n",
    "3. Crear un portafolio de inversión (Pueden proponer otra distribución que no sea la Normal).\n",
    "\n",
    "4. Balance de masa en un reactor unidimensional. \"Numerical Methods for Engineers\", Steven C. Chapra y Raymond P. Canale. Pag.: 915 ([Disponible en la biblioteca](http://ezproxy.iteso.mx/login?qurl=http%3a%2f%2fsearch.ebscohost.com%2flogin.aspx%3fdirect%3dtrue%26db%3dedshbz%26AN%3dedshbz.DE.605.HBZ01.022933880%26lang%3des%26site%3deds-live))."
   ]
  },
  {
   "cell_type": "markdown",
   "metadata": {},
   "source": [
    "___\n",
    "## 2. Entregable.\n",
    "Los trabajos deben tener los siguientes componentes básicos.\n",
    "\n",
    "### 2.1 Título del trabajo.\n",
    "> Debe describir el trabajo.\n",
    "\n",
    "### 2.2 Objetivos.\n",
    "> - Se refieren a los propósitos por los cuales se hace el trabajo.\n",
    "> - Deben ser concretos, evaluables y verificables.\n",
    "> - Deben ser escritos en infinitivo.\n",
    "> #### 1.1 Objetivo general.\n",
    ">  - Fin último de estudio. Se formula atendiendo el propósito global del trabajo. No presenta detalles.\n",
    ">  - Se orienta a la totalidad del trabajo. Tiene que ver con el título del trabajo.\n",
    "> #### 1.2 Objetivos específicos\n",
    ">  - De forma detallada describen cada una de los componentes del trabajo.\n",
    ">  - En conjunto garantizan la consecución del objetivo general.\n",
    "\n",
    "Referencia:\n",
    "- https://es.slideshare.net/rosbur/metodologia-objetivos-generales-y-especficos\n",
    "\n",
    "### 2.3 Modelo que representa el problema.\n",
    "> - Se debe incluir la función o funciones a integrar, las ecuaciones recursivas para el fractal o la media y desviación estandar del rendimiento a simular.\n",
    "> - Deducción del modelo. Explicación detallada de las ecuaciones de acuerdo al problema que se quiera resolver o modelo que se quiera representar.\n",
    "> - ¿Qué situación representa el modelo? ¿Cuáles son las limitaciones fundamentales?\n",
    "> - Significado y valor de los parámetros (constantes que aparezcan en el modelo).\n",
    "\n",
    "### 2.4 Solución del problema de optimización.\n",
    "> - Se debe resolver el problema usando el método Montecarlo.\n",
    "> - ¿Condujo el algoritmo a una solución factible?\n",
    "\n",
    "### 2.5 Visualización de la solución dle problema.\n",
    "> Se deben mostrar gráficas y/o tablas que ilustren de forma adecuada los resultados. No olviden etiquetar los ejes y si se tienen varias curvas en una sola gráfica también etiquetarlas (ojo: que las curvas se puedan diferenciar con colores y estilos de línea).\n",
    "\n",
    "### 2.6 Conclusiones.\n",
    "> Mucho cuidado, las conclusiones no son cualquier cosa. Se debe concluir respecto a los objetivos planteados de acuerdo a los resultados obtenidos.\n",
    "\n",
    "### 2.7 Referencias.\n",
    "> Citar (en formato APA) la bibliografía utilizada."
   ]
  },
  {
   "cell_type": "markdown",
   "metadata": {},
   "source": [
    "___\n",
    "## 3. Especificaciones adicionales.\n",
    "\n",
    "### 3.1 Notebook de jupyter. \n",
    "> Los anteriores numerales los deben desarrollar todos en un notebook de jupyter y llamarlo de la siguiente manera `ProyectoModulo2_ApellidoN1_ApellidoN2_ApellidoN3`, donde `ApellidoNi` hace referencia al apellido paterno y la inicial del primer nombre del integrante `i`.\n",
    "\n",
    "### 3.2 Presentación.\n",
    "> Recuerden que la nota del proyecto es: mitad el trabajo, y mitad la presentación.\n",
    ">\n",
    "> Deben hacer una presentación en power point y exponerla el lunes **12 de abril**. La presentación además, debe llevar una tabla de contenido.\n",
    "> - **NO DEBE TENER CÓDIGO, PARA ESO ES EL INFORME EN EL NOTEBOOK**\n",
    "> - Presentación: 10 minutos.\n",
    "> - Seguir estas recomendaciones: https://es.slideshare.net/MeireComputacion/power-point-pautas-para-una-buen-trabajo"
   ]
  }
 ],
 "metadata": {
  "kernelspec": {
   "display_name": "Python 3",
   "language": "python",
   "name": "python3"
  },
  "language_info": {
   "codemirror_mode": {
    "name": "ipython",
    "version": 3
   },
   "file_extension": ".py",
   "mimetype": "text/x-python",
   "name": "python",
   "nbconvert_exporter": "python",
   "pygments_lexer": "ipython3",
   "version": "3.8.8"
  }
 },
 "nbformat": 4,
 "nbformat_minor": 2
}
