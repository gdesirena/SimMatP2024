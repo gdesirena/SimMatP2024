{
 "cells": [
  {
   "cell_type": "markdown",
   "metadata": {},
   "source": [
    "<img style=\"float: left;;\" src='Figures/iteso.jpg' width=\"100\" height=\"200\"/></a>\n",
    "\n",
    "# <center> <font color= #000047> Modelo del rendimiento de una cuenta de ahorro\n",
    " </font> </center>\n"
   ]
  },
  {
   "cell_type": "markdown",
   "metadata": {},
   "source": [
    "\n",
    "<img style=\"center\" src=\"https://static.pexels.com/photos/9660/business-money-pink-coins.jpg\" width=\"500px\" height=\"200px\" alt=\"atom\"/>\n",
    "\n",
    "> **¿Tiene el dinero el mismo valor a lo largo del tiempo?** La respuesta es *no*. Todos lo hemos vivido. \n",
    "\n",
    "> Dos situaciones básicas:\n",
    "1. <font color=blue>Inflación</font>: ¿Cuánto dinero necesitabas para comprar unas papas y un refresco hace 10 años? ¿Cuánto necesitas hoy?\n",
    "2. <font color=blue>Interés</font>: no es lo mismo tener $\\$10000$ MXN disponibles hoy a recibir $\\$10000$ MXN en un año, pues los primeros pueden ser invertidos en un negocio o una cuenta bancaria para generar *interés*. Por lo tanto los $\\$10000$ MXN disponibles hoy valen más que los $\\$10000$ MXN que se recibirán en un año.\n",
    "\n",
    "Referencia:\n",
    "- Vidaurri Aguirre, Héctor Manuel. *Ingeniería económica básica*, ISBN: 978-607-519-017-4. (Disponible en biblioteca)"
   ]
  },
  {
   "cell_type": "markdown",
   "metadata": {},
   "source": [
    "Referencias:\n",
    "- http://www.sympy.org\n",
    "- http://matplotlib.org\n",
    "- http://www.numpy.org\n",
    "- http://ipywidgets.readthedocs.io/en/latest/index.html"
   ]
  },
  {
   "cell_type": "markdown",
   "metadata": {},
   "source": [
    "___\n",
    "## Interés\n",
    "Nos centraremos en como cambia el valor del dinero en el tiempo debido al **interés**. Existen dos tipos:"
   ]
  },
  {
   "cell_type": "markdown",
   "metadata": {},
   "source": [
    "### Capitalización por interés simple\n",
    "Este tipo de interés se calcula <font color=red>única y exclusivamente sobre la cantidad original que se invirtió</font>. Como consecuencia, el interés generado no forma parte del dinero que se invierte, es decir, los <font color=blue>intereses no ganan intereses</font>.\n",
    "\n",
    "Suponga que se tiene un capital inicial $C_0$ y se invierte a un plazo de $k$ periodos (pueden ser meses, trimestres, semestres, años...) a una tasa de **interés simple** por periodo $i$. Al final del primer periodo, el capital $C_1$ que se obtiene es:\n",
    "\n",
    "$$C_1=C_0+iC_0=C_0(1+i).$$\n",
    "\n",
    "De la misma manera, como el interés solo se calcula sobre el capital inicial, al final del segundo periodo, el capital $C_2$ que se obtiene es:\n",
    "\n",
    "$$C_2=C_1+iC_0=C_0+iC_0+iC_0=C_0(1+2i).$$\n",
    "\n",
    "Así, al final del $k-$ésimo periodo, el capital $C_k$ que se obtiene es:\n",
    "\n",
    "$$C_k=C_{k-1}+iC_0=C_0+kiC_0=C_0(1+ki).$$"
   ]
  },
  {
   "cell_type": "markdown",
   "metadata": {},
   "source": [
    "> **Ejemplo.** Suponga que se tiene un capital de \\$10000 MXN, el cual se pone en un fondo de inversión que paga una tasa de interés simple del 0.8% mensual. \n",
    "\n",
    "> Si se tiene una meta de ahorro de \\$11000 MXN sin inversiones adicionales, ¿cuántos meses se debería dejar invertido el dinero?"
   ]
  },
  {
   "cell_type": "code",
   "execution_count": null,
   "metadata": {},
   "outputs": [],
   "source": [
    "# Librería para cálculo numérico\n"
   ]
  },
  {
   "cell_type": "code",
   "execution_count": null,
   "metadata": {},
   "outputs": [],
   "source": [
    "# Valores dados en el enunciado\n"
   ]
  },
  {
   "cell_type": "code",
   "execution_count": null,
   "metadata": {},
   "outputs": [],
   "source": [
    "# Despejamos k tal que C_k=meta\n"
   ]
  },
  {
   "cell_type": "code",
   "execution_count": null,
   "metadata": {},
   "outputs": [],
   "source": [
    "# Imprimimos respuesta en pantalla\n",
    "print(f\"Para llegar a la meta de {Ck} con un capital inicial de {C0} a una tasa de {i} mensual, el dinero al finalizar los {k} meses es: {C0*(1+k*i):.2f}\")"
   ]
  },
  {
   "cell_type": "markdown",
   "metadata": {},
   "source": [
    "> <font color=blue>**Actividad.**</font>\n",
    "> - ¿Qué pasa si el interés no es del 0.8% mensual sino del 1% mensual?\n",
    "> - ¿Qué pasa si la meta no son $\\$11000$ MXN si no $\\$12000$ MXN?"
   ]
  },
  {
   "cell_type": "code",
   "execution_count": null,
   "metadata": {},
   "outputs": [],
   "source": [
    "# Solución\n",
    "\n",
    "# Despejamos k tal que C_k=meta\n"
   ]
  },
  {
   "cell_type": "markdown",
   "metadata": {},
   "source": [
    "> Una gráfica que nos permite ilustrar la situación anterior se puede realizar de la siguiente manera."
   ]
  },
  {
   "cell_type": "code",
   "execution_count": null,
   "metadata": {},
   "outputs": [],
   "source": [
    "# Librerías para gráficos\n"
   ]
  },
  {
   "cell_type": "markdown",
   "metadata": {},
   "source": [
    "Explicar la siguiente función"
   ]
  },
  {
   "cell_type": "code",
   "execution_count": null,
   "metadata": {
    "scrolled": false
   },
   "outputs": [],
   "source": [
    "# Función de gráficos de interés simple\n"
   ]
  },
  {
   "cell_type": "code",
   "execution_count": null,
   "metadata": {},
   "outputs": [],
   "source": [
    "interact_manual(interes_simple, C_0=fixed(10000),meta=(10000,20000,100), i = fixed(0.01))"
   ]
  },
  {
   "cell_type": "markdown",
   "metadata": {},
   "source": [
    "Como se esperaba, el capital en el $k-$ésimo periodo $C_k=C_0(1+ki)$ crece linealmente con $k$."
   ]
  },
  {
   "cell_type": "markdown",
   "metadata": {},
   "source": [
    "### Capitalización por interés compuesto\n",
    "El capital que genera el interés simple permanece constante todo el tiempo de duración de la inversión. En cambio, el que produce el interés compuesto en un periodo se <font color=red>convierte en capital en el siguiente periodo</font>. Esto es, el interés generado al final de un periodo <font color=blue>se reinvierte para el siguiente periodo para también producir interés</font>.\n",
    "\n",
    "Suponga que se tiene un capital inicial $C_0$, y se va a ceder el uso de este capital por un periodo de tiempo determinado a una tasa de interés $i$. El capital que se obtiene al final del primer periodo $C_1$ se puede calcular por\n",
    "\n",
    "$$C_1=C_0(1+i).$$ \n",
    "\n",
    "Si la anterior suma se vuelve a ceder a la misma tasa de interés, al final del periodo dos el capital $C_2$ es \n",
    "\n",
    "$$C_2=C_1(1+i)=C_0(1+i)^2.$$\n",
    "\n",
    "Si se repite el anterior proceso $k$ veces, el capital al final del $k-$ésimo periodo $C_k$ es \n",
    "\n",
    "$$C_k=C_{k-1}(1+i)=C_0(1+i)^k.$$\n",
    "\n",
    "**Referencia**:\n",
    "- https://es.wikipedia.org/wiki/Inter%C3%A9s_compuesto."
   ]
  },
  {
   "cell_type": "markdown",
   "metadata": {},
   "source": [
    "$$ C_k/C0 = (1+i)^k$$\n",
    "$$ log(Ck/C0) = k*log(1+i)$$\n",
    "$$ log(Ck/C0)/log(1+i) = k $$"
   ]
  },
  {
   "cell_type": "markdown",
   "metadata": {},
   "source": [
    "> **Ejemplo.** Suponga que se tiene un capital de \\$10000 MXN, el cual se pone en un fondo de inversión que paga una tasa de interés del 0.8% mensual. \n",
    "\n",
    "> Si se tiene una meta de ahorro de \\$11000 MXN sin inversiones adicionales, ¿cuántos meses se debería dejar invertido el dinero?\n",
    "\n",
    "> Muestre una gráfica que ilustre la situación."
   ]
  },
  {
   "cell_type": "code",
   "execution_count": null,
   "metadata": {},
   "outputs": [],
   "source": []
  },
  {
   "cell_type": "code",
   "execution_count": null,
   "metadata": {},
   "outputs": [],
   "source": [
    "interact_manual(interes_compuesto, C_0=fixed(10000),meta=(10000,100000,100), i = fixed(0.008))"
   ]
  },
  {
   "cell_type": "markdown",
   "metadata": {},
   "source": [
    "El capital en el $k-$ésimo periodo $C_k=C_0(1+i)^k$ crece de manera exponencial con $k$."
   ]
  },
  {
   "cell_type": "markdown",
   "metadata": {},
   "source": [
    "> <font color=blue>**Actividad.**</font>\n",
    "> - Modificar el código anterior para dejar fija la meta de ahorro y variar la tasa de interés compuesta."
   ]
  },
  {
   "cell_type": "code",
   "execution_count": null,
   "metadata": {},
   "outputs": [],
   "source": []
  },
  {
   "cell_type": "markdown",
   "metadata": {},
   "source": [
    "### Capitalización continua de intereses\n",
    "La capitalización continua se considera un tipo de capitalización compuesta, en la que a cada instante de tiempo $t$ se se capitalizan los intereses. Es decir, la frecuencia de capitalización es infinita (o, equivalentemente, el periodo de capitalización tiende a cero).\n",
    "\n",
    "Suponga que se tiene un capital inicial $C_0$, y que el capital acumulado en el tiempo $t$ es $C(t)$. Queremos saber cuanto será el capital pasado un periodo de tiempo $\\Delta t$, dado que la tasa de interés efectiva para este periodo de tiempo es $i$. De acuerdo a lo anterior tenemos\n",
    "\n",
    "$$C(t+\\Delta t)=C(t)(1+i)=C(t)(1+r\\Delta t),$$\n",
    "\n",
    "donde $r=\\frac{i}{\\Delta t}$ es la tasa de interés instantánea. Manipulando la anterior expresión, obtenemos\n",
    "\n",
    "$$\\frac{C(t+\\Delta t)-C(t)}{\\Delta t}=r\\; C(t).$$\n",
    "\n",
    "Haciendo $\\Delta t\\to 0$, obtenemos la siguiente ecuación diferencial \n",
    "\n",
    "$$\\frac{d C(t)}{dt}=r\\; C(t),$$\n",
    "\n",
    "sujeta a la condición inicial (monto o capital inicial) $C(0)=C_0$.\n",
    "\n",
    "La anterior, es una ecuación diferencial lineal de primer orden, para la cual se puede calcular la *solución analítica*."
   ]
  },
  {
   "cell_type": "code",
   "execution_count": null,
   "metadata": {},
   "outputs": [],
   "source": []
  },
  {
   "cell_type": "code",
   "execution_count": null,
   "metadata": {},
   "outputs": [],
   "source": [
    "# Símbolos t(para el tiempo) y r(para el interés instantáneo)\n"
   ]
  },
  {
   "cell_type": "code",
   "execution_count": null,
   "metadata": {},
   "outputs": [],
   "source": [
    "# Ecuación diferencial\n",
    "#dc(t)/dt - rc(t) = 0\n",
    "\n",
    "\n",
    "#mosrtrar la ecuación\n"
   ]
  },
  {
   "cell_type": "code",
   "execution_count": null,
   "metadata": {},
   "outputs": [],
   "source": [
    "# resolver la ecuación diferencial\n",
    "\n"
   ]
  },
  {
   "cell_type": "markdown",
   "metadata": {},
   "source": [
    "con $C_1=C_0$.\n",
    "\n",
    "La equivalencia entre la tasa de interés compuesta $i$ y la tasa de interés instantánea $r$ viene dada por\n",
    "\n",
    "$$e^r=1+i.$$"
   ]
  },
  {
   "cell_type": "markdown",
   "metadata": {},
   "source": [
    "___\n",
    "¿Cómo podemos calcular la *solución numérica*?"
   ]
  },
  {
   "cell_type": "markdown",
   "metadata": {},
   "source": [
    "> **Ejemplo.** Suponga que se tiene un capital de \\$10000 MXN, el cual se pone en un fondo de inversión que paga una tasa de interés del 0.8% mensual. \n",
    "\n",
    "> Si se tiene una meta de ahorro de \\$11000 MXN sin inversiones adicionales, ¿cuánto tiempo se debe dejar invertido el dinero?\n",
    "\n",
    "> Muestre una gráfica que ilustre la situación."
   ]
  },
  {
   "cell_type": "code",
   "execution_count": null,
   "metadata": {},
   "outputs": [],
   "source": [
    "# Librerías para integración numérica\n"
   ]
  },
  {
   "cell_type": "code",
   "execution_count": null,
   "metadata": {},
   "outputs": [],
   "source": []
  },
  {
   "cell_type": "code",
   "execution_count": null,
   "metadata": {},
   "outputs": [],
   "source": [
    "# Modelo de capitalización continua\n"
   ]
  },
  {
   "cell_type": "code",
   "execution_count": null,
   "metadata": {},
   "outputs": [],
   "source": []
  },
  {
   "cell_type": "code",
   "execution_count": null,
   "metadata": {},
   "outputs": [],
   "source": []
  },
  {
   "cell_type": "markdown",
   "metadata": {},
   "source": [
    "### Actividad. \n",
    "1. Resolver simbólicamente y numéricamente la siguiente ecuación diferencial:\n",
    "$$\\frac{dx}{dt}=\\frac{x}{t+1}; \\quad x(0) = 1$$"
   ]
  },
  {
   "cell_type": "code",
   "execution_count": null,
   "metadata": {},
   "outputs": [],
   "source": [
    "# Símbolos t(para el tiempo) \n",
    "\n"
   ]
  },
  {
   "cell_type": "code",
   "execution_count": null,
   "metadata": {},
   "outputs": [],
   "source": [
    "#Ecuación diferencial\n"
   ]
  },
  {
   "cell_type": "code",
   "execution_count": null,
   "metadata": {},
   "outputs": [],
   "source": [
    "# Resolver\n"
   ]
  },
  {
   "cell_type": "markdown",
   "metadata": {},
   "source": [
    "cuando $t=0$\n",
    "$$x(0)= C1*(0 + 1)$$\n",
    "$$1= C1*0 + C1*1$$"
   ]
  },
  {
   "cell_type": "markdown",
   "metadata": {},
   "source": [
    "Despejamos la constante usando la condición inicial:\n",
    "\n",
    "$$\n",
    "1=x(0)=C_1(0 + 1)=C_1\n",
    "$$"
   ]
  },
  {
   "cell_type": "markdown",
   "metadata": {},
   "source": [
    "Finalmente, la solución es:\n",
    "\n",
    "$$\n",
    "x(t) = t + 1\n",
    "$$"
   ]
  },
  {
   "cell_type": "markdown",
   "metadata": {},
   "source": [
    "2. Obtener la solución numérica."
   ]
  },
  {
   "cell_type": "code",
   "execution_count": null,
   "metadata": {},
   "outputs": [],
   "source": [
    "# Funcion a integrar\n"
   ]
  },
  {
   "cell_type": "code",
   "execution_count": null,
   "metadata": {},
   "outputs": [],
   "source": []
  },
  {
   "cell_type": "code",
   "execution_count": null,
   "metadata": {},
   "outputs": [],
   "source": [
    "# Condicion inicial\n"
   ]
  },
  {
   "cell_type": "code",
   "execution_count": null,
   "metadata": {},
   "outputs": [],
   "source": [
    "help(odeint)"
   ]
  },
  {
   "cell_type": "code",
   "execution_count": null,
   "metadata": {},
   "outputs": [],
   "source": [
    "# Solucion numerica\n"
   ]
  },
  {
   "cell_type": "code",
   "execution_count": null,
   "metadata": {},
   "outputs": [],
   "source": [
    "# Grafica x vs.t\n"
   ]
  },
  {
   "cell_type": "markdown",
   "metadata": {},
   "source": [
    "3. Comparar."
   ]
  },
  {
   "cell_type": "code",
   "execution_count": null,
   "metadata": {},
   "outputs": [],
   "source": [
    "# Grafica x vs.t\n"
   ]
  },
  {
   "cell_type": "markdown",
   "metadata": {},
   "source": [
    "___\n",
    "## Tabla de abonos\n",
    "Como aplicación importante del concepto de interés compuesto se encuentra la creación de un modelo de cuenta de ahorro.\n",
    "\n",
    "Referencia:\n",
    "- Vidaurri Aguirre, Héctor Manuel. *Ingeniería económica básica*, ISBN: 978-607-519-017-4. (Disponible en biblioteca)\n",
    "- http://pbpython.com/amortization-model.html"
   ]
  },
  {
   "cell_type": "code",
   "execution_count": null,
   "metadata": {},
   "outputs": [],
   "source": [
    "# Librería de análisis de datos\n",
    "# Librería para manipulación de fechas\n"
   ]
  },
  {
   "cell_type": "code",
   "execution_count": null,
   "metadata": {},
   "outputs": [],
   "source": [
    "# Datos para la cuenta de ahorro\n",
    "\n",
    "\n",
    "# La siguiente solución es también válida. Sin embargo, evitar el uso de 'for'\n",
    "\n",
    "#df.loc[1, \"Balance\"] = Inicial*(1+Tasa_interes/Abonos_ano)**1 + df.loc[1, \"Abono\"]\n",
    "\n",
    "#for i in range(2, len(df)+1):\n",
    "#    # Get the previous balance as well as current payments\n",
    "#    prev_balance = df.loc[i-1, \"Balance\"]\n",
    "\n",
    "#    df.loc[i, \"Balance\"] = prev_balance*(1+Tasa_interes/Abonos_ano)**1 + df.loc[i, \"Abono\"]"
   ]
  }
 ],
 "metadata": {
  "kernelspec": {
   "display_name": "Python 3",
   "language": "python",
   "name": "python3"
  },
  "language_info": {
   "codemirror_mode": {
    "name": "ipython",
    "version": 3
   },
   "file_extension": ".py",
   "mimetype": "text/x-python",
   "name": "python",
   "nbconvert_exporter": "python",
   "pygments_lexer": "ipython3",
   "version": "3.8.8"
  }
 },
 "nbformat": 4,
 "nbformat_minor": 2
}
