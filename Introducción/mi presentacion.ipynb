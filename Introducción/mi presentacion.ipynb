{
 "cells": [
  {
   "cell_type": "markdown",
   "metadata": {},
   "source": [
    "# Introducción Personal\n",
    "\n",
    "Hola, soy **Gaddiel**, tengo 32 años,.... \n",
    "mis hobbies son:\n",
    "\n",
    "1. Tocar guitarra\n",
    "2. videojuegos\n",
    "\n",
    "# Resumen del artículo: The American West is drying up.\n",
    "\n",
    "mi resumen es del artículo [link](https://www.economist.com/united-states/the-american-west-is-drying-up/21803608)\n",
    "\n",
    "\n",
    "gures to sue press outlets and win “lots of money”. No such loosening has transpired. But some judges and scholars are raising doubts about the nearly 60-ye"
   ]
  },
  {
   "cell_type": "code",
   "execution_count": null,
   "metadata": {},
   "outputs": [],
   "source": []
  }
 ],
 "metadata": {
  "kernelspec": {
   "display_name": "Python 3 (ipykernel)",
   "language": "python",
   "name": "python3"
  },
  "language_info": {
   "codemirror_mode": {
    "name": "ipython",
    "version": 3
   },
   "file_extension": ".py",
   "mimetype": "text/x-python",
   "name": "python",
   "nbconvert_exporter": "python",
   "pygments_lexer": "ipython3",
   "version": "3.8.8"
  }
 },
 "nbformat": 4,
 "nbformat_minor": 4
}
